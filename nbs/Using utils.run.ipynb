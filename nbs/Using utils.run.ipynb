{
 "cells": [
  {
   "cell_type": "markdown",
   "metadata": {},
   "source": [
    "As of now, you'll want to run the cells of `Running Experiments.ipynb` up to and including the **Networks** section _before_ running this.\n",
    "\n",
    "Then copy the `network_ID` over to this file."
   ]
  },
  {
   "cell_type": "code",
   "execution_count": null,
   "metadata": {},
   "outputs": [],
   "source": [
    "import pathlib\n",
    "\n",
    "import autograd.numpy as np\n",
    "\n",
    "import autocrit_tools.run"
   ]
  },
  {
   "cell_type": "code",
   "execution_count": null,
   "metadata": {},
   "outputs": [],
   "source": [
    "optimizer_ID = \"test_optimizer\"\n",
    "network_ID = \"test_network_hTokHt\"\n",
    "root_dir = pathlib.Path(\"~\").expanduser() / \"Dropbox\" / \"OptimizationLandscapes\" / \"results_mb\"\n",
    "data_dir = root_dir / \"gaussian_16_linspace\"\n",
    "\n",
    "num_optimizer_steps = 10"
   ]
  },
  {
   "cell_type": "code",
   "execution_count": null,
   "metadata": {},
   "outputs": [],
   "source": [
    "setup_optimization_test_args = autocrit_tools.run.make_optimizer_setup_args(\n",
    "    data_dir=str(data_dir),\n",
    "    network_ID=network_ID,\n",
    "    ID=optimizer_ID,\n",
    "    optimizer_lr=0.01\n",
    "    )"
   ]
  },
  {
   "cell_type": "code",
   "execution_count": null,
   "metadata": {},
   "outputs": [],
   "source": [
    "setup_optimization_test_args"
   ]
  },
  {
   "cell_type": "code",
   "execution_count": null,
   "metadata": {},
   "outputs": [],
   "source": [
    "optimizer_dir = data_dir / network_ID / optimizer_ID"
   ]
  },
  {
   "cell_type": "code",
   "execution_count": null,
   "metadata": {},
   "outputs": [],
   "source": [
    "run_optimization_test_args = autocrit_tools.run.make_optimizer_run_args(\n",
    "    optimizer_dir=str(optimizer_dir),\n",
    "    num_steps=num_optimizer_steps\n",
    ")"
   ]
  },
  {
   "cell_type": "code",
   "execution_count": null,
   "metadata": {},
   "outputs": [],
   "source": [
    "run_optimization_test_args"
   ]
  },
  {
   "cell_type": "code",
   "execution_count": null,
   "metadata": {},
   "outputs": [],
   "source": [
    "out = autocrit_tools.run.run_script_pair(setup_optimization_test_args,\n",
    "                                         run_optimization_test_args, \"../scripts/\")"
   ]
  },
  {
   "cell_type": "code",
   "execution_count": null,
   "metadata": {},
   "outputs": [],
   "source": [
    "out"
   ]
  },
  {
   "cell_type": "code",
   "execution_count": null,
   "metadata": {},
   "outputs": [],
   "source": [
    "traj = np.load(str(optimizer_dir / \"trajectories\" / \"0000.npz\"))"
   ]
  },
  {
   "cell_type": "code",
   "execution_count": null,
   "metadata": {},
   "outputs": [],
   "source": [
    "traj[\"f_theta\"]"
   ]
  },
  {
   "cell_type": "code",
   "execution_count": null,
   "metadata": {},
   "outputs": [],
   "source": [
    "critfinder_ID = \"test_finder\"\n",
    "critfinder_dir = optimizer_dir / critfinder_ID"
   ]
  },
  {
   "cell_type": "code",
   "execution_count": null,
   "metadata": {},
   "outputs": [],
   "source": [
    "setup_critfinder_test_args = autocrit_tools.run.make_critfinder_setup_args(\n",
    "    optimizer_dir=str(optimizer_dir),\n",
    "    finder=\"newtonMR\",\n",
    "    ID=\"test_finder\",\n",
    "    init_theta=\"uniform_f\",\n",
    "    trajectory_ID=\"0000\"\n",
    ")"
   ]
  },
  {
   "cell_type": "code",
   "execution_count": null,
   "metadata": {},
   "outputs": [],
   "source": [
    "setup_critfinder_test_args"
   ]
  },
  {
   "cell_type": "code",
   "execution_count": null,
   "metadata": {},
   "outputs": [],
   "source": [
    "run_critfinder_test_args = autocrit_tools.run.make_critfinder_run_args(\n",
    "    critfinder_dir=str(critfinder_dir),\n",
    "    output_ID=\"0000\",\n",
    "    num_iters=10\n",
    ")"
   ]
  },
  {
   "cell_type": "code",
   "execution_count": null,
   "metadata": {},
   "outputs": [],
   "source": [
    "run_critfinder_test_args"
   ]
  },
  {
   "cell_type": "code",
   "execution_count": null,
   "metadata": {},
   "outputs": [],
   "source": [
    "out = autocrit_tools.run.run_script_pair(\n",
    "    setup_critfinder_test_args, run_critfinder_test_args,\n",
    "    pair=\"critfinder\", dir=\"../scripts/\")"
   ]
  },
  {
   "cell_type": "code",
   "execution_count": null,
   "metadata": {},
   "outputs": [],
   "source": [
    "out"
   ]
  },
  {
   "cell_type": "code",
   "execution_count": null,
   "metadata": {},
   "outputs": [],
   "source": [
    "traj = np.load(str(critfinder_dir / \"outputs\" / \"0000.npz\"))"
   ]
  },
  {
   "cell_type": "code",
   "execution_count": null,
   "metadata": {},
   "outputs": [],
   "source": [
    "traj.files"
   ]
  },
  {
   "cell_type": "code",
   "execution_count": null,
   "metadata": {},
   "outputs": [],
   "source": [
    "traj[\"g_theta\"]"
   ]
  }
 ],
 "metadata": {
  "kernelspec": {
   "display_name": "Python 3",
   "language": "python",
   "name": "python3"
  },
  "language_info": {
   "codemirror_mode": {
    "name": "ipython",
    "version": 3
   },
   "file_extension": ".py",
   "mimetype": "text/x-python",
   "name": "python",
   "nbconvert_exporter": "python",
   "pygments_lexer": "ipython3",
   "version": "3.7.3"
  }
 },
 "nbformat": 4,
 "nbformat_minor": 2
}
