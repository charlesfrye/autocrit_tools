{
 "cells": [
  {
   "cell_type": "code",
   "execution_count": null,
   "metadata": {},
   "outputs": [],
   "source": [
    "import json\n",
    "import os\n",
    "import pathlib"
   ]
  },
  {
   "cell_type": "code",
   "execution_count": null,
   "metadata": {},
   "outputs": [],
   "source": [
    "from autocrit_tools.util import random_string"
   ]
  },
  {
   "cell_type": "markdown",
   "metadata": {},
   "source": [
    "Note: all of the python scripts below have documentation accessible with `-h`. If anything is unclear, check the docs."
   ]
  },
  {
   "cell_type": "markdown",
   "metadata": {},
   "source": [
    "## Preliminaries"
   ]
  },
  {
   "cell_type": "markdown",
   "metadata": {},
   "source": [
    "We begin by setting some path variables and hyperparameters."
   ]
  },
  {
   "cell_type": "markdown",
   "metadata": {},
   "source": [
    "### Paths and File Structure"
   ]
  },
  {
   "cell_type": "markdown",
   "metadata": {},
   "source": [
    "The experiments we run involve specifying a neural network to run on a given dataset, training that network with an optimization algorithm, and then using the trajectories of that optimizer as initialization points for a critical point-finding algorithm.\n",
    "\n",
    "To organize all of this inter-related information, we use the following file structure:"
   ]
  },
  {
   "cell_type": "code",
   "execution_count": null,
   "metadata": {},
   "outputs": [],
   "source": [
    "!cat ../etc/example_file_structure.txt"
   ]
  },
  {
   "cell_type": "markdown",
   "metadata": {},
   "source": [
    "The top-level directory (`results/` above) is called `root_path`. Its contents are directories for datasets. The `data_ID` variable identifies a data directory. Data ready for use by a network is stored within that directory as `data.npz`.\n",
    "\n",
    "For this example, these files will be created for you by the cells below. You just need to change the `root_path`. I'm trying out a new workflow where my Dropbox syncs results across machines, so that's where I set my root_path."
   ]
  },
  {
   "cell_type": "code",
   "execution_count": null,
   "metadata": {},
   "outputs": [],
   "source": [
    "root_path = pathlib.Path(\"~\").expanduser() / \"Dropbox\" / \"OptimizationLandscapes\" / \"results_mb\""
   ]
  },
  {
   "cell_type": "markdown",
   "metadata": {},
   "source": [
    "The `setup_network` script can create test Gaussian data with linearly-spaced eigenvalues for use with autoencoders. This determines the value of `data_ID` below."
   ]
  },
  {
   "cell_type": "code",
   "execution_count": null,
   "metadata": {},
   "outputs": [],
   "source": [
    "data_ID = \"gaussian_16_linspace\"\n",
    "data_dir = root_path / data_ID\n",
    "\n",
    "data_dir"
   ]
  },
  {
   "cell_type": "markdown",
   "metadata": {},
   "source": [
    "The same dataset can be analyzed with different networks, so the dataset directories contain directories for networks. The `network_ID` variable identifies a directory.\n",
    "\n",
    "Networks are specified by a `network.json` file inside this directory. See the **Network** section below for more on how these are generated."
   ]
  },
  {
   "cell_type": "code",
   "execution_count": null,
   "metadata": {},
   "outputs": [],
   "source": [
    "network_ID = \"test_network\" + \"_\" + random_string(6)"
   ]
  },
  {
   "cell_type": "markdown",
   "metadata": {},
   "source": [
    "A network can be trained with any of a number of optimizers, so the network directories contain directories for optimizers. The `optimizer_ID` variable identifies an optimizer.\n",
    "\n",
    "Optimizers are specified by an `optimizer.json` file inside this directory. See the **Optimization Experiment** section below for more on how these are generated and executed.\n",
    "\n",
    "The resulting trajectories are saved in the `trajectories/` sub-folder. By default, they are identified by charwidth-4 integers, e.g `0000`. These trajectories are `npz` files; compressed dictionary-like collections of numpy arrays."
   ]
  },
  {
   "cell_type": "code",
   "execution_count": null,
   "metadata": {},
   "outputs": [],
   "source": [
    "optimizer_ID = \"test_optimizer\" + \"_\" + random_string(6)\n",
    "\n",
    "optimizer_dir = data_dir / network_ID / optimizer_ID\n",
    "\n",
    "optimizer_dir"
   ]
  },
  {
   "cell_type": "markdown",
   "metadata": {},
   "source": [
    "The path of a given optimizer can be used to seed any of a number of critical point finding algorithms, so the optimizer directories contain directories for critfinders. The `critfinder_ID` variable identifies an optimizer.\n",
    "\n",
    "The outputs of a critfinder are saved in the `outputs/` sub-folder, again as `npz`s with charwidth-4 integer identifiers."
   ]
  },
  {
   "cell_type": "code",
   "execution_count": null,
   "metadata": {},
   "outputs": [],
   "source": [
    "critfinder_base_ID = \"test_finder\""
   ]
  },
  {
   "cell_type": "markdown",
   "metadata": {},
   "source": [
    "### Hyperparameters"
   ]
  },
  {
   "cell_type": "markdown",
   "metadata": {},
   "source": [
    "Lastly, there are some hyperparameters that are typically not changed across a wide variety of experiments. We set these at the top. The values below are chosen for speed, not accuracy.\n",
    "\n",
    "There are many more hyperparameters. See the docs to determine their default values."
   ]
  },
  {
   "cell_type": "code",
   "execution_count": null,
   "metadata": {},
   "outputs": [],
   "source": [
    "num_optimizer_steps = 100\n",
    "num_gnm_steps = 500\n",
    "num_newton_steps = 50"
   ]
  },
  {
   "cell_type": "markdown",
   "metadata": {},
   "source": [
    "## Network"
   ]
  },
  {
   "cell_type": "markdown",
   "metadata": {},
   "source": [
    "The `setup_network` script connects a dataset and a specification of network layers.\n",
    "\n",
    "This specification is a `json` file. It can be automatically generated by first building a network with tools from `autocrit.nn` and then calling `json.dump` on the network's `layer_dicts` attribute. If this attribute doesn't edxist, first build it with `construct_dict`.\n",
    "\n",
    "Below, we specify a simple group of layers by hand, then save the result.\n",
    "The network below has _no nonlinearities_."
   ]
  },
  {
   "cell_type": "code",
   "execution_count": null,
   "metadata": {},
   "outputs": [],
   "source": [
    "layers_dir = root_path / \"layer_specs\"\n",
    "\n",
    "layers_dir"
   ]
  },
  {
   "cell_type": "code",
   "execution_count": null,
   "metadata": {},
   "outputs": [],
   "source": [
    "k = 4\n",
    "p = 16\n",
    "\n",
    "layer_dicts = [{\"type\": \"fc\",\n",
    "                \"params\": {\"out_nodes\": k, \"has_biases\": False}},\n",
    "               {\"type\": \"fc\",\n",
    "                \"params\": {\"out_nodes\": p, \"has_biases\": False}}\n",
    "              ]\n"
   ]
  },
  {
   "cell_type": "code",
   "execution_count": null,
   "metadata": {},
   "outputs": [],
   "source": [
    "layers_path = layers_dir / \"16_4_fcae.json\"\n",
    "\n",
    "layers_path.parent.mkdir(exist_ok=True, parents=True)"
   ]
  },
  {
   "cell_type": "code",
   "execution_count": null,
   "metadata": {},
   "outputs": [],
   "source": [
    "with open(layers_path, \"w\") as f:\n",
    "    json.dump(layer_dicts, f)"
   ]
  },
  {
   "cell_type": "code",
   "execution_count": null,
   "metadata": {},
   "outputs": [],
   "source": [
    "!python ../scripts/setup_network.py -v --results_path {root_path} \\\n",
    "        --ID {network_ID} \\\n",
    "        --data_ID {data_ID} \\\n",
    "        --zero_centering \"subtract_mean\" \\\n",
    "        --generate_data \\\n",
    "        --task \"autoencoding\" \\\n",
    "        --layers_path {layers_path}"
   ]
  },
  {
   "cell_type": "markdown",
   "metadata": {},
   "source": [
    "## Optimization Experiment"
   ]
  },
  {
   "cell_type": "markdown",
   "metadata": {},
   "source": [
    "Both experiments are executed in the same fashion: first, a `setup` python script is run to create all of the configuration files for each component of the experiment: the data, the network, the optimizer/finder, etc.\n",
    "\n",
    "The `setup_XYZ_experiment.py` scripts take a very large number of keyword arguments, so they are equipped with more thorough documentation. Run `setup_XYZ_experiment.py -h` to see them."
   ]
  },
  {
   "cell_type": "markdown",
   "metadata": {},
   "source": [
    "### Setup"
   ]
  },
  {
   "cell_type": "code",
   "execution_count": null,
   "metadata": {},
   "outputs": [],
   "source": [
    "!python ../scripts/setup_optimization_experiment.py\\\n",
    "    --ID {optimizer_ID} \\\n",
    "    --data_dir {data_dir} \\\n",
    "    --network_ID {network_ID} \\\n",
    "    --optimizer \"gd\"\\\n",
    "    --optimizer_lr 0.01"
   ]
  },
  {
   "cell_type": "markdown",
   "metadata": {},
   "source": [
    "### Run"
   ]
  },
  {
   "cell_type": "markdown",
   "metadata": {},
   "source": [
    "We now run the optimization experiment by passing its directory path, a trajectory identifier, and a number of iterations to run to `run_optimization_experiment`."
   ]
  },
  {
   "cell_type": "code",
   "execution_count": null,
   "metadata": {},
   "outputs": [],
   "source": [
    "optimizer_trajectory_increment = 0"
   ]
  },
  {
   "cell_type": "code",
   "execution_count": null,
   "metadata": {},
   "outputs": [],
   "source": [
    "trajectory_ID = str(optimizer_trajectory_increment).zfill(4)\n",
    "\n",
    "!python ../scripts/run_optimization_experiment.py \\\n",
    "    --optimizer_dir {optimizer_dir} --trajectory_ID {trajectory_ID} \\\n",
    "    {num_optimizer_steps}\n",
    "    \n",
    "optimizer_trajectory_increment += 1"
   ]
  },
  {
   "cell_type": "markdown",
   "metadata": {},
   "source": [
    "## Critfinder Experiments"
   ]
  },
  {
   "cell_type": "markdown",
   "metadata": {},
   "source": [
    "Critfinder experiments are executed in much the same fashion: `setup` and then `run`."
   ]
  },
  {
   "cell_type": "markdown",
   "metadata": {},
   "source": [
    "### Setup"
   ]
  },
  {
   "cell_type": "markdown",
   "metadata": {},
   "source": [
    "The most important variable is the `finder_str`, which identifies the critfinding algorithm. Current choices are `gnm` (gradient norm minimization, as in Pennington and Bahri), `newtonMR` (`m`in`r`es, by Roosta et al.), and `newtonTR` (trust region, as in Dauphin et al.).\n",
    "\n",
    "See the docs with `!python setup_critfinder_experiment.py -h` for details on the various arguments.\n",
    "\n",
    "The argument structure is quite different depending on which method is being called: for example, `gnm` needs `minimizer`, either `g`radient `d`escent, `momentum`, or `b`ack`t`racking `l`ine `s`earch, while `newtonXY` methods do not.\n",
    "\n",
    "This makes it more convenient to encapsulate the setup in a function.\n",
    "\n",
    "For greater reusability/abstraction, consider using `subprocess` and building the `args` lists, as in `utils/run`."
   ]
  },
  {
   "cell_type": "code",
   "execution_count": null,
   "metadata": {},
   "outputs": [],
   "source": [
    "def setup_critfinder(critfinder_ID, finder_str, optimizer_dir,\n",
    "                     trajectory_ID, init_theta=\"uniform_f\",\n",
    "                     theta_perturb=None):\n",
    "\n",
    "    if isinstance(trajectory_ID, int):\n",
    "        trajectory_ID = str(trajectory_ID).zfill(4)\n",
    "        \n",
    "    if finder_str == \"gnm\":\n",
    "        if theta_perturb is not None:\n",
    "            !python ../scripts/setup_critfinder_experiment.py \\\n",
    "            {optimizer_dir} {finder_str} \\\n",
    "                --ID {critfinder_ID} \\\n",
    "                --minimizer \"btls\" \\\n",
    "                --init_theta {init_theta} \\\n",
    "                --trajectory_ID {trajectory_ID} \\\n",
    "                --theta_perturb {theta_perturb}\n",
    "        else:\n",
    "            !python ../scripts/setup_critfinder_experiment.py \\\n",
    "            {optimizer_dir} {finder_str} \\\n",
    "                --ID {critfinder_ID} \\\n",
    "                --minimizer \"btls\" \\\n",
    "                --init_theta {init_theta} \\\n",
    "                --trajectory_ID {trajectory_ID}\n",
    "            \n",
    "    if \"newton\" in finder_str:\n",
    "        if theta_perturb is not None:\n",
    "            !python ../scripts/setup_critfinder_experiment.py \\\n",
    "            {optimizer_dir} {finder_str} \\\n",
    "                --ID {critfinder_ID} \\\n",
    "                --init_theta {init_theta} \\\n",
    "                --trajectory_ID {trajectory_ID} \\\n",
    "                --gamma_mx 2 \\\n",
    "                --gamma_k 10 \\\n",
    "                --theta_perturb {theta_perturb}\n",
    "        else:\n",
    "            !python ../scripts/setup_critfinder_experiment.py \\\n",
    "            {optimizer_dir} {finder_str} \\\n",
    "                --ID {critfinder_ID} \\\n",
    "                --init_theta {init_theta} \\\n",
    "                --trajectory_ID {trajectory_ID} \\\n",
    "                --gamma_mx 2 \\\n",
    "                --gamma_k 10"
   ]
  },
  {
   "cell_type": "markdown",
   "metadata": {
    "collapsed": true
   },
   "source": [
    "### Run"
   ]
  },
  {
   "cell_type": "markdown",
   "metadata": {},
   "source": [
    "For the original set of experiments, it was most important to compare lots of configurations of critfinders on the same data and network, so the code for running critfinders was organized for looping over those configurations, as below."
   ]
  },
  {
   "cell_type": "code",
   "execution_count": null,
   "metadata": {},
   "outputs": [],
   "source": [
    "runs_per_critfinder = 1"
   ]
  },
  {
   "cell_type": "code",
   "execution_count": null,
   "metadata": {},
   "outputs": [],
   "source": [
    "theta_perturbs = [None]\n",
    "\n",
    "trajectories = [0]\n",
    "\n",
    "init_theta = \"uniform_f\"\n",
    "finder_str = \"newtonMR\"\n",
    "\n",
    "for theta_perturb in theta_perturbs:\n",
    "    \n",
    "    for trajectory in trajectories:\n",
    "\n",
    "        finder_ID = critfinder_base_ID + \"_\" + random_string(6)\n",
    "\n",
    "        print(trajectory, finder_ID)\n",
    "\n",
    "        setup_critfinder(finder_ID, finder_str, optimizer_dir,\n",
    "                         trajectory,\n",
    "                         init_theta=init_theta,\n",
    "                         theta_perturb=theta_perturb)\n",
    "\n",
    "        for ii in range(0, runs_per_critfinder):\n",
    "            print(\"\\t\" + str(ii))\n",
    "            critfinder_dir = optimizer_dir / finder_ID\n",
    "\n",
    "            output_ID = str(ii).zfill(4)\n",
    "            \n",
    "            if finder_str == \"gnm\":\n",
    "                num_steps = num_gnm_steps\n",
    "            else:\n",
    "                num_steps = num_newton_steps\n",
    "\n",
    "            !python ../scripts/run_critfinder_experiment.py \\\n",
    "            {critfinder_dir} {output_ID} {num_steps}"
   ]
  }
 ],
 "metadata": {
  "kernelspec": {
   "display_name": "Python 3",
   "language": "python",
   "name": "python3"
  },
  "language_info": {
   "codemirror_mode": {
    "name": "ipython",
    "version": 3
   },
   "file_extension": ".py",
   "mimetype": "text/x-python",
   "name": "python",
   "nbconvert_exporter": "python",
   "pygments_lexer": "ipython3",
   "version": "3.7.3"
  }
 },
 "nbformat": 4,
 "nbformat_minor": 2
}
